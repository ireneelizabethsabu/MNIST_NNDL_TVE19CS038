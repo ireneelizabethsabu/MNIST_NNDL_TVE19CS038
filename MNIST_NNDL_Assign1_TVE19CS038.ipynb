{
  "nbformat": 4,
  "nbformat_minor": 0,
  "metadata": {
    "colab": {
      "name": "MNIST_NNDL_Assign1_TVE19CS038.ipynb",
      "provenance": [],
      "collapsed_sections": []
    },
    "kernelspec": {
      "name": "python3",
      "display_name": "Python 3"
    },
    "language_info": {
      "name": "python"
    }
  },
  "cells": [
    {
      "cell_type": "markdown",
      "source": [
        "NNDL ML HONORS ASSIGNMENT <br>\n",
        "Irene Elizabeth Sabu<br>\n",
        "TVE19CS038<br>\n",
        "S5 CSE<br>\n",
        "Access the Github Repo From : [This Github Repo]()"
      ],
      "metadata": {
        "id": "XTWIcUi7yhsn"
      }
    },
    {
      "cell_type": "code",
      "source": [
        "from numpy import mean,std\n",
        "from matplotlib import pyplot as plt\n",
        "from sklearn.model_selection import KFold\n",
        "from tensorflow.keras.datasets import mnist\n",
        "from tensorflow.keras.utils import to_categorical\n",
        "from tensorflow.keras.models import Sequential\n",
        "from tensorflow.keras.layers import Conv2D,MaxPooling2D,Dense,Flatten\n",
        "from tensorflow.keras.optimizers import Adam"
      ],
      "metadata": {
        "id": "6-JWT36-py4B"
      },
      "execution_count": 32,
      "outputs": []
    },
    {
      "cell_type": "code",
      "execution_count": 33,
      "metadata": {
        "colab": {
          "base_uri": "https://localhost:8080/",
          "height": 0
        },
        "id": "IqK-WXcGnYfh",
        "outputId": "bb1d1b8b-2f9a-4fa3-ef76-b9c5ec888b08"
      },
      "outputs": [
        {
          "output_type": "stream",
          "name": "stdout",
          "text": [
            "Train: X=(60000, 28, 28), y=(60000,)\n",
            "Test: X=(10000, 28, 28), y=(10000,)\n"
          ]
        }
      ],
      "source": [
        "# load dataset\n",
        "(trainX, trainy), (testX, testy) = mnist.load_data()\n",
        "# summarize loaded dataset\n",
        "print('Train: X=%s, y=%s' % (trainX.shape, trainy.shape))\n",
        "print('Test: X=%s, y=%s' % (testX.shape, testy.shape))"
      ]
    },
    {
      "cell_type": "code",
      "source": [
        "(trainX, trainY), (testX, testY) = mnist.load_data()\n",
        "\n",
        "# reshape dataset to have a single channel\n",
        "trainX = trainX.reshape((trainX.shape[0], 28, 28, 1))\n",
        "testX = testX.reshape((testX.shape[0], 28, 28, 1))"
      ],
      "metadata": {
        "id": "OWbZWjpJoFDC"
      },
      "execution_count": 34,
      "outputs": []
    },
    {
      "cell_type": "code",
      "source": [
        "from tensorflow.keras.utils import to_categorical\n",
        "\n",
        "# one hot encode target values\n",
        "trainY = to_categorical(trainY)\n",
        "testY = to_categorical(testY)"
      ],
      "metadata": {
        "id": "gCdkhuFNn5-h"
      },
      "execution_count": 35,
      "outputs": []
    },
    {
      "cell_type": "code",
      "source": [
        "# convert from integers to floats\n",
        "train_norm = trainX.astype('float32')\n",
        "test_norm = testX.astype('float32')\n",
        "# normalize to range 0-1\n",
        "trainX = train_norm / 255.0\n",
        "testX = test_norm / 255.0"
      ],
      "metadata": {
        "id": "Vrai0sxdoilV"
      },
      "execution_count": 36,
      "outputs": []
    },
    {
      "cell_type": "markdown",
      "source": [
        "**MODEL 1**"
      ],
      "metadata": {
        "id": "5EcaKCi_9OdG"
      }
    },
    {
      "cell_type": "code",
      "source": [
        "def define_model_1():\n",
        "\tmodel = Sequential()\n",
        "\tmodel.add(Flatten(input_shape=(28, 28)))\n",
        "\tmodel.add(Dense(200, activation='relu'))\n",
        "\tmodel.add(Dense(10, activation='softmax'))\n",
        "\t# compile model\n",
        "\topt = Adam(learning_rate=0.01)\n",
        "\tmodel.compile(optimizer=opt, loss='categorical_crossentropy', metrics=['accuracy'])\n",
        "\treturn model"
      ],
      "metadata": {
        "id": "_tkx01UbouGr"
      },
      "execution_count": 45,
      "outputs": []
    },
    {
      "cell_type": "code",
      "source": [
        "# evaluate a model using k-fold cross-validation\n",
        "def evaluate_model_1():\n",
        "    scores, histories = list(), list()\n",
        "    # define model\n",
        "    model = define_model_1()\n",
        "    print(model.summary())\n",
        "    # fit model\n",
        "    history = model.fit(trainX, trainY, epochs=10, batch_size=32, validation_data=(testX, testY), verbose=1)\n",
        "    # evaluate model\n",
        "    _, acc = model.evaluate(testX, testY, verbose=1)\n",
        "    print('> %.3f' % (acc * 100.0))\n",
        "    # stores scores\n",
        "    scores.append(acc)\n",
        "    histories.append(history)\n",
        "    return scores, histories"
      ],
      "metadata": {
        "id": "cxa4ol6AqMW-"
      },
      "execution_count": 46,
      "outputs": []
    },
    {
      "cell_type": "code",
      "source": [
        "scores, histories = evaluate_model_1()"
      ],
      "metadata": {
        "colab": {
          "base_uri": "https://localhost:8080/",
          "height": 0
        },
        "id": "0B8Ympxsqz-l",
        "outputId": "1cf90e95-d640-4b91-8cb2-560bc68a4325"
      },
      "execution_count": 47,
      "outputs": [
        {
          "output_type": "stream",
          "name": "stdout",
          "text": [
            "Model: \"sequential_8\"\n",
            "_________________________________________________________________\n",
            " Layer (type)                Output Shape              Param #   \n",
            "=================================================================\n",
            " flatten_8 (Flatten)         (None, 784)               0         \n",
            "                                                                 \n",
            " dense_18 (Dense)            (None, 200)               157000    \n",
            "                                                                 \n",
            " dense_19 (Dense)            (None, 10)                2010      \n",
            "                                                                 \n",
            "=================================================================\n",
            "Total params: 159,010\n",
            "Trainable params: 159,010\n",
            "Non-trainable params: 0\n",
            "_________________________________________________________________\n",
            "None\n",
            "Epoch 1/10\n",
            "1875/1875 [==============================] - 6s 3ms/step - loss: 0.2458 - accuracy: 0.9283 - val_loss: 0.1889 - val_accuracy: 0.9467\n",
            "Epoch 2/10\n",
            "1875/1875 [==============================] - 6s 3ms/step - loss: 0.1625 - accuracy: 0.9564 - val_loss: 0.1905 - val_accuracy: 0.9519\n",
            "Epoch 3/10\n",
            "1875/1875 [==============================] - 6s 3ms/step - loss: 0.1455 - accuracy: 0.9614 - val_loss: 0.1946 - val_accuracy: 0.9544\n",
            "Epoch 4/10\n",
            "1875/1875 [==============================] - 6s 3ms/step - loss: 0.1321 - accuracy: 0.9663 - val_loss: 0.2136 - val_accuracy: 0.9557\n",
            "Epoch 5/10\n",
            "1875/1875 [==============================] - 6s 3ms/step - loss: 0.1200 - accuracy: 0.9698 - val_loss: 0.1601 - val_accuracy: 0.9654\n",
            "Epoch 6/10\n",
            "1875/1875 [==============================] - 6s 3ms/step - loss: 0.1162 - accuracy: 0.9706 - val_loss: 0.1714 - val_accuracy: 0.9641\n",
            "Epoch 7/10\n",
            "1875/1875 [==============================] - 6s 3ms/step - loss: 0.1077 - accuracy: 0.9737 - val_loss: 0.2254 - val_accuracy: 0.9597\n",
            "Epoch 8/10\n",
            "1875/1875 [==============================] - 6s 3ms/step - loss: 0.1121 - accuracy: 0.9733 - val_loss: 0.2379 - val_accuracy: 0.9588\n",
            "Epoch 9/10\n",
            "1875/1875 [==============================] - 6s 3ms/step - loss: 0.1020 - accuracy: 0.9753 - val_loss: 0.2089 - val_accuracy: 0.9647\n",
            "Epoch 10/10\n",
            "1875/1875 [==============================] - 6s 3ms/step - loss: 0.0953 - accuracy: 0.9768 - val_loss: 0.1986 - val_accuracy: 0.9659\n",
            "313/313 [==============================] - 1s 2ms/step - loss: 0.1986 - accuracy: 0.9659\n",
            "> 96.590\n"
          ]
        }
      ]
    },
    {
      "cell_type": "markdown",
      "source": [
        "**MODEL 2**"
      ],
      "metadata": {
        "id": "YNSLXk-u9tMx"
      }
    },
    {
      "cell_type": "code",
      "source": [
        "def define_model_2():\n",
        "    model = Sequential()\n",
        "    model.add(Flatten(input_shape=(28, 28)))\n",
        "    model.add(Dense(220, activation='relu'))\n",
        "    model.add(Dense(150, activation='relu'))\n",
        "    model.add(Dense(64, activation='relu'))\n",
        "    model.add(Dense(10, activation='softmax'))\n",
        "    # compile model\n",
        "    opt = Adam(learning_rate=0.01)\n",
        "    model.compile(optimizer=opt, loss='categorical_crossentropy', metrics=['accuracy'])\n",
        "    return model"
      ],
      "metadata": {
        "id": "x6w_XnhNrRzK"
      },
      "execution_count": 79,
      "outputs": []
    },
    {
      "cell_type": "code",
      "source": [
        "# evaluate a model using k-fold cross-validation\n",
        "def evaluate_model_2():\n",
        "    scores, histories = list(), list()\n",
        "    # define model\n",
        "    model = define_model_2()\n",
        "    print(model.summary())\n",
        "    # fit model\n",
        "    history = model.fit(trainX, trainY, epochs=10, batch_size=32, validation_data=(testX, testY), verbose=1)\n",
        "    # evaluate model\n",
        "    _, acc = model.evaluate(testX, testY, verbose=1)\n",
        "    print('> %.3f' % (acc * 100.0))\n",
        "    # stores scores\n",
        "    scores.append(acc)\n",
        "    histories.append(history)\n",
        "    return scores, histories"
      ],
      "metadata": {
        "id": "JZ4eFXbOsasR"
      },
      "execution_count": 80,
      "outputs": []
    },
    {
      "cell_type": "markdown",
      "source": [
        "Execute the Second Model Training"
      ],
      "metadata": {
        "id": "aU81LR-E9yJ3"
      }
    },
    {
      "cell_type": "code",
      "source": [
        "scores, histories = evaluate_model_2()"
      ],
      "metadata": {
        "colab": {
          "base_uri": "https://localhost:8080/",
          "height": 0
        },
        "id": "aAWnThTJtuBb",
        "outputId": "69978d75-219e-4459-aaa7-d0ab8b0c5e76"
      },
      "execution_count": 81,
      "outputs": [
        {
          "output_type": "stream",
          "name": "stdout",
          "text": [
            "Model: \"sequential_18\"\n",
            "_________________________________________________________________\n",
            " Layer (type)                Output Shape              Param #   \n",
            "=================================================================\n",
            " flatten_18 (Flatten)        (None, 784)               0         \n",
            "                                                                 \n",
            " dense_56 (Dense)            (None, 220)               172700    \n",
            "                                                                 \n",
            " dense_57 (Dense)            (None, 150)               33150     \n",
            "                                                                 \n",
            " dense_58 (Dense)            (None, 64)                9664      \n",
            "                                                                 \n",
            " dense_59 (Dense)            (None, 10)                650       \n",
            "                                                                 \n",
            "=================================================================\n",
            "Total params: 216,164\n",
            "Trainable params: 216,164\n",
            "Non-trainable params: 0\n",
            "_________________________________________________________________\n",
            "None\n",
            "Epoch 1/10\n",
            "1875/1875 [==============================] - 9s 4ms/step - loss: 0.2977 - accuracy: 0.9178 - val_loss: 0.2283 - val_accuracy: 0.9442\n",
            "Epoch 2/10\n",
            "1875/1875 [==============================] - 8s 4ms/step - loss: 0.2065 - accuracy: 0.9496 - val_loss: 0.1971 - val_accuracy: 0.9494\n",
            "Epoch 3/10\n",
            "1875/1875 [==============================] - 8s 4ms/step - loss: 0.1736 - accuracy: 0.9568 - val_loss: 0.1725 - val_accuracy: 0.9571\n",
            "Epoch 4/10\n",
            "1875/1875 [==============================] - 8s 4ms/step - loss: 0.1674 - accuracy: 0.9602 - val_loss: 0.1694 - val_accuracy: 0.9592\n",
            "Epoch 5/10\n",
            "1875/1875 [==============================] - 8s 4ms/step - loss: 0.1439 - accuracy: 0.9655 - val_loss: 0.1972 - val_accuracy: 0.9562\n",
            "Epoch 6/10\n",
            "1875/1875 [==============================] - 7s 4ms/step - loss: 0.1360 - accuracy: 0.9690 - val_loss: 0.2234 - val_accuracy: 0.9582\n",
            "Epoch 7/10\n",
            "1875/1875 [==============================] - 7s 4ms/step - loss: 0.1335 - accuracy: 0.9691 - val_loss: 0.1643 - val_accuracy: 0.9655\n",
            "Epoch 8/10\n",
            "1875/1875 [==============================] - 8s 4ms/step - loss: 0.1218 - accuracy: 0.9731 - val_loss: 0.1560 - val_accuracy: 0.9680\n",
            "Epoch 9/10\n",
            "1875/1875 [==============================] - 8s 4ms/step - loss: 0.1168 - accuracy: 0.9738 - val_loss: 0.1479 - val_accuracy: 0.9675\n",
            "Epoch 10/10\n",
            "1875/1875 [==============================] - 8s 4ms/step - loss: 0.1056 - accuracy: 0.9768 - val_loss: 0.1613 - val_accuracy: 0.9695\n",
            "313/313 [==============================] - 1s 2ms/step - loss: 0.1613 - accuracy: 0.9695\n",
            "> 96.950\n"
          ]
        }
      ]
    },
    {
      "cell_type": "markdown",
      "source": [
        "# Report"
      ],
      "metadata": {
        "id": "rV1cpaA-6egR"
      }
    },
    {
      "cell_type": "markdown",
      "source": [
        "Two Deep Learning Models with softmax layer activation at the top and 'relu' on other layers using Neural Network architecture was created on the  MNIST dataset.  \n",
        "\n",
        "MODEL 1:\n",
        "<br>Number of NN layers = 2\n",
        "<br>Validation Accuracy = 96.590\n",
        "<br>Validation Loss = 0.1986\n",
        "<br>Number of Trainable Parameters = 159,010\n",
        "\n",
        "MODEL 2:\n",
        "<br>Number of NN layers = 4\n",
        "<br>Validation Accuracy = 96.950\n",
        "<br>Validation Loss =  0.1613\n",
        "<br>Number of Trainable Parameters = 216,164\n",
        "\n",
        "Model 2 has better validation accuracy than Model 1 hence Model 2 has better performance."
      ],
      "metadata": {
        "id": "_NI1U9nq6hK_"
      }
    }
  ]
}